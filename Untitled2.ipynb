{
  "nbformat": 4,
  "nbformat_minor": 0,
  "metadata": {
    "colab": {
      "provenance": [],
      "toc_visible": true
    },
    "kernelspec": {
      "name": "python3",
      "display_name": "Python 3"
    },
    "language_info": {
      "name": "python"
    }
  },
  "cells": [
    {
      "cell_type": "code",
      "source": [
        "import matplotlib.pyplot as plt\n",
        "import seaborn as sns\n",
        "import pandas as pd\n",
        "import numpy as np\n",
        "\n",
        "df_customers = pd.read_csv('Customers.csv')\n",
        "\n",
        "print(df_customers)"
      ],
      "metadata": {
        "colab": {
          "base_uri": "https://localhost:8080/"
        },
        "id": "4L5aBg5d1_5C",
        "outputId": "fcfbbb95-ba6d-4728-85d5-d70c8a1e8219"
      },
      "execution_count": 5,
      "outputs": [
        {
          "output_type": "stream",
          "name": "stdout",
          "text": [
            "       CustomerKey Prefix  FirstName LastName              Unnamed: 4  \\\n",
            "0            11000    MR.        JON     YANG            MR. JON YANG   \n",
            "1            11001    MR.     EUGENE    HUANG        MR. EUGENE HUANG   \n",
            "2            11002    MR.      RUBEN   TORRES        MR. RUBEN TORRES   \n",
            "3            11003    MS.    CHRISTY      ZHU         MS. CHRISTY ZHU   \n",
            "4            11004   MRS.  ELIZABETH  JOHNSON  MRS. ELIZABETH JOHNSON   \n",
            "...            ...    ...        ...      ...                     ...   \n",
            "18143        29479    MR.      TOMMY     TANG          MR. TOMMY TANG   \n",
            "18144        29480   MRS.       NINA     RAJI          MRS. NINA RAJI   \n",
            "18145        29481    MR.       IVAN     SURI           MR. IVAN SURI   \n",
            "18146        29482    MR.    CLAYTON    ZHANG       MR. CLAYTON ZHANG   \n",
            "18147        29483    MR.      JÉSUS  NAVARRO       MR. JÉSUS NAVARRO   \n",
            "\n",
            "      Unnamed: 5 Unnamed: 6   BirthDate  Unnamed: 8 MaritalStatus Gender  \\\n",
            "0           YANG       YANG    4/8/1966         NaN             M      M   \n",
            "1          HUANG      HUANG  14/05/1965         NaN             S      M   \n",
            "2         TORRES     TORRES   8/12/1965         NaN             M      M   \n",
            "3            ZHU        ZHU  15/02/1968         NaN             S      F   \n",
            "4        JOHNSON    JOHNSON    8/8/1968         NaN             S      F   \n",
            "...          ...        ...         ...         ...           ...    ...   \n",
            "18143       TANG        NaN    7/4/1958         NaN             M      M   \n",
            "18144       RAJI        NaN  11/10/1960         NaN             S      F   \n",
            "18145       SURI        NaN    1/5/1960         NaN             S      M   \n",
            "18146      ZHANG        NaN    3/5/1959         NaN             M      M   \n",
            "18147    NAVARRO        NaN   12/8/1959         NaN             M      M   \n",
            "\n",
            "                     EmailAddress AnnualIncome  TotalChildren  \\\n",
            "0           jon24@learnsector.com     $90,000               2   \n",
            "1        eugene10@learnsector.com     $60,000               3   \n",
            "2         ruben35@learnsector.com     $60,000               3   \n",
            "3       christy12@learnsector.com     $70,000               0   \n",
            "4      elizabeth5@learnsector.com     $80,000               5   \n",
            "...                           ...          ...            ...   \n",
            "18143      tommy2@learnsector.com     $30,000               1   \n",
            "18144      nina21@learnsector.com     $30,000               3   \n",
            "18145       ivan0@learnsector.com     $30,000               3   \n",
            "18146    clayton0@learnsector.com     $30,000               3   \n",
            "18147      jésus9@learnsector.com     $30,000               0   \n",
            "\n",
            "        EducationLevel    Occupation HomeOwner  Unnamed: 17  Unnamed: 18  \\\n",
            "0            Bachelors  Professional         Y          NaN          NaN   \n",
            "1            Bachelors  Professional         N          NaN          NaN   \n",
            "2            Bachelors  Professional         Y          NaN          NaN   \n",
            "3            Bachelors  Professional         N          NaN          NaN   \n",
            "4            Bachelors  Professional         Y          NaN          NaN   \n",
            "...                ...           ...       ...          ...          ...   \n",
            "18143  Graduate Degree      Clerical         Y          NaN          NaN   \n",
            "18144  Graduate Degree      Clerical         Y          NaN          NaN   \n",
            "18145  Graduate Degree      Clerical         N          NaN          NaN   \n",
            "18146        Bachelors      Clerical         Y          NaN          NaN   \n",
            "18147        Bachelors      Clerical         Y          NaN          NaN   \n",
            "\n",
            "      BirthDate.1  \n",
            "0      14-05-1965  \n",
            "1      15-02-1968  \n",
            "2             NaN  \n",
            "3             NaN  \n",
            "4             NaN  \n",
            "...           ...  \n",
            "18143         NaN  \n",
            "18144         NaN  \n",
            "18145         NaN  \n",
            "18146         NaN  \n",
            "18147         NaN  \n",
            "\n",
            "[18148 rows x 20 columns]\n"
          ]
        }
      ]
    },
    {
      "cell_type": "code",
      "source": [
        "df_customers['AnnualIncome'] = pd.to_numeric(df_customers['AnnualIncome'], errors='coerce')\n",
        "\n",
        "print(df_customers['AnnualIncome'])"
      ],
      "metadata": {
        "colab": {
          "base_uri": "https://localhost:8080/"
        },
        "id": "bihB4lfHP0_5",
        "outputId": "bbffdb5b-371e-42e9-c131-6b03433b8c54"
      },
      "execution_count": 8,
      "outputs": [
        {
          "output_type": "stream",
          "name": "stdout",
          "text": [
            "0       NaN\n",
            "1       NaN\n",
            "2       NaN\n",
            "3       NaN\n",
            "4       NaN\n",
            "         ..\n",
            "18143   NaN\n",
            "18144   NaN\n",
            "18145   NaN\n",
            "18146   NaN\n",
            "18147   NaN\n",
            "Name: AnnualIncome, Length: 18148, dtype: float64\n"
          ]
        }
      ]
    },
    {
      "cell_type": "code",
      "source": [
        "from datetime import datetime\n",
        "df_customers['Age'] = (datetime.now() - pd.to_datetime(df_customers['BirthDate'])).dt.days // 365\n",
        "\n",
        "print(df_customers['Age'])"
      ],
      "metadata": {
        "colab": {
          "base_uri": "https://localhost:8080/"
        },
        "id": "SgVhzYunQ38W",
        "outputId": "cc284355-a4b6-4a50-9551-06f7cbe939fb"
      },
      "execution_count": 10,
      "outputs": [
        {
          "output_type": "stream",
          "name": "stdout",
          "text": [
            "0        57\n",
            "1        58\n",
            "2        58\n",
            "3        56\n",
            "4        55\n",
            "         ..\n",
            "18143    65\n",
            "18144    63\n",
            "18145    64\n",
            "18146    65\n",
            "18147    64\n",
            "Name: Age, Length: 18148, dtype: int64\n"
          ]
        },
        {
          "output_type": "stream",
          "name": "stderr",
          "text": [
            "<ipython-input-10-5b66df00a89d>:2: UserWarning: Parsing dates in DD/MM/YYYY format when dayfirst=False (the default) was specified. This may lead to inconsistently parsed dates! Specify a format to ensure consistent parsing.\n",
            "  df_customers['Age'] = (datetime.now() - pd.to_datetime(df_customers['BirthDate'])).dt.days // 365\n"
          ]
        }
      ]
    },
    {
      "cell_type": "code",
      "source": [
        "# Bar chart for count of customers by MaritalStatus\n",
        "plt.figure(figsize=(10, 6))\n",
        "sns.countplot(x='MaritalStatus', data=df_customers)\n",
        "plt.title('Count of Customers by MaritalStatus')\n",
        "plt.savefig('marital_status_count.png')\n",
        "plt.close()\n",
        "print('marital_status_count.png')"
      ],
      "metadata": {
        "colab": {
          "base_uri": "https://localhost:8080/"
        },
        "id": "yQc5HTGvS40P",
        "outputId": "a48b4684-37d3-452b-cde3-f4aac1a9460c"
      },
      "execution_count": 12,
      "outputs": [
        {
          "output_type": "stream",
          "name": "stdout",
          "text": [
            "marital_status_count.png\n"
          ]
        }
      ]
    },
    {
      "cell_type": "code",
      "source": [
        "# Pie chart for proportion of customers by Gender\n",
        "plt.figure(figsize=(8, 8))\n",
        "df_customers['Gender'].value_counts().plot(kind='pie', autopct='%1.1f%%')\n",
        "plt.title('Proportion of Customers by Gender')\n",
        "plt.ylabel('')  # Remove the y-label as it's unnecessary for pie charts\n",
        "plt.savefig('gender_proportion.png')\n",
        "plt.close()\n",
        "print('gender_proportion.png')"
      ],
      "metadata": {
        "colab": {
          "base_uri": "https://localhost:8080/"
        },
        "id": "xgirowv3Tu98",
        "outputId": "87abcb3b-dc08-4101-e74f-f0b15ab0efe1"
      },
      "execution_count": 13,
      "outputs": [
        {
          "output_type": "stream",
          "name": "stdout",
          "text": [
            "gender_proportion.png\n"
          ]
        }
      ]
    },
    {
      "cell_type": "code",
      "source": [
        "# Histogram of AnnualIncome\n",
        "df_customers['AnnualIncome'].hist(bins=20)\n",
        "plt.title('Distribution of AnnualIncome')\n",
        "plt.xlabel('AnnualIncome')\n",
        "plt.ylabel('Frequency')\n",
        "plt.savefig('annual_income_distribution.png')\n",
        "plt.close()\n",
        "print('annual_income_distribution.png')"
      ],
      "metadata": {
        "colab": {
          "base_uri": "https://localhost:8080/"
        },
        "id": "Hm9ZgrDPVKLc",
        "outputId": "ae6479e5-ace1-4775-8b32-89ae6dfd34ba"
      },
      "execution_count": 14,
      "outputs": [
        {
          "output_type": "stream",
          "name": "stdout",
          "text": [
            "annual_income_distribution.png\n"
          ]
        }
      ]
    },
    {
      "cell_type": "code",
      "source": [
        "# Column chart for average number of TotalChildren by EducationLevel\n",
        "plt.figure(figsize=(12, 6))\n",
        "df_customers.groupby('EducationLevel')['TotalChildren'].mean().plot(kind='bar')\n",
        "plt.title('Average Number of TotalChildren by EducationLevel')\n",
        "plt.xlabel('EducationLevel')\n",
        "plt.ylabel('Average TotalChildren')\n",
        "plt.savefig('total_children_education_level.png')\n",
        "plt.close()\n",
        "print('total_children_education_level.png')"
      ],
      "metadata": {
        "colab": {
          "base_uri": "https://localhost:8080/"
        },
        "id": "sELMrkcNWPgG",
        "outputId": "727600c5-d413-48a3-f9a1-f73d92f7e061"
      },
      "execution_count": 15,
      "outputs": [
        {
          "output_type": "stream",
          "name": "stdout",
          "text": [
            "total_children_education_level.png\n"
          ]
        }
      ]
    },
    {
      "cell_type": "code",
      "source": [
        "# Bar chart for average AnnualIncome across different Occupation categories\n",
        "plt.figure(figsize=(12, 6))\n",
        "df_customers.groupby('Occupation')['AnnualIncome'].mean().plot(kind='bar')\n",
        "plt.title('Average AnnualIncome by Occupation')\n",
        "plt.xlabel('Occupation')\n",
        "plt.ylabel('Average AnnualIncome')\n",
        "plt.savefig('average_annual_income_occupation.png')\n",
        "plt.close()\n",
        "print('average_annual_income_occupation.png')"
      ],
      "metadata": {
        "colab": {
          "base_uri": "https://localhost:8080/"
        },
        "id": "mxe8nCp-YXwL",
        "outputId": "9b5956ed-5cf3-4c6a-8f52-f27ea7792f29"
      },
      "execution_count": 16,
      "outputs": [
        {
          "output_type": "stream",
          "name": "stdout",
          "text": [
            "average_annual_income_occupation.png\n"
          ]
        }
      ]
    },
    {
      "cell_type": "code",
      "source": [
        "# Pie chart for count of customers in each Occupation category\n",
        "plt.figure(figsize=(10, 10))\n",
        "df_customers['Occupation'].value_counts().plot(kind='pie', autopct='%1.1f%%')\n",
        "plt.title('Count of Customers in Each Occupation Category')\n",
        "plt.ylabel('')  # Remove the y-label as it's unnecessary for pie charts\n",
        "plt.savefig('occupation_category_count.png')\n",
        "plt.close()\n",
        "print('occupation_category_count.png')"
      ],
      "metadata": {
        "colab": {
          "base_uri": "https://localhost:8080/"
        },
        "id": "mlIVCI3PY4O9",
        "outputId": "c6572f43-4579-47c9-aa37-b4f9cd4adca1"
      },
      "execution_count": 17,
      "outputs": [
        {
          "output_type": "stream",
          "name": "stdout",
          "text": [
            "occupation_category_count.png\n"
          ]
        }
      ]
    },
    {
      "cell_type": "code",
      "source": [
        "# Histogram to explore the age distribution of customers\n",
        "plt.figure(figsize=(10, 6))\n",
        "df_customers['Age'].hist(bins=20)\n",
        "plt.title('Age Distribution of Customers')\n",
        "plt.xlabel('Age')\n",
        "plt.ylabel('Frequency')\n",
        "plt.savefig('age_distribution.png')\n",
        "plt.close()\n",
        "print('age_distribution.png')"
      ],
      "metadata": {
        "colab": {
          "base_uri": "https://localhost:8080/"
        },
        "id": "UFmR5wfnZKOH",
        "outputId": "9072f30c-b6ae-4c1a-b2d5-84907a086694"
      },
      "execution_count": 18,
      "outputs": [
        {
          "output_type": "stream",
          "name": "stdout",
          "text": [
            "age_distribution.png\n"
          ]
        }
      ]
    },
    {
      "cell_type": "code",
      "source": [
        "# Convert BirthDate to datetime and calculate age\n",
        "now = pd.Timestamp('now')\n",
        "df_customers['BirthDate'] = pd.to_datetime(df_customers['BirthDate'], errors='coerce')\n",
        "df_customers['Age'] = (now - df_customers['BirthDate']).astype('<m8[Y]')\n",
        "print(df_customers['Age'])"
      ],
      "metadata": {
        "colab": {
          "base_uri": "https://localhost:8080/"
        },
        "id": "pCIqwyWGZt94",
        "outputId": "3d81140e-9783-45b3-9a5b-659a6dc79465"
      },
      "execution_count": 19,
      "outputs": [
        {
          "output_type": "stream",
          "name": "stdout",
          "text": [
            "0        57.0\n",
            "1        58.0\n",
            "2        58.0\n",
            "3        56.0\n",
            "4        55.0\n",
            "         ... \n",
            "18143    65.0\n",
            "18144    63.0\n",
            "18145    64.0\n",
            "18146    65.0\n",
            "18147    64.0\n",
            "Name: Age, Length: 18148, dtype: float64\n"
          ]
        },
        {
          "output_type": "stream",
          "name": "stderr",
          "text": [
            "<ipython-input-19-dd14f00d5dde>:3: UserWarning: Parsing dates in DD/MM/YYYY format when dayfirst=False (the default) was specified. This may lead to inconsistently parsed dates! Specify a format to ensure consistent parsing.\n",
            "  df_customers['BirthDate'] = pd.to_datetime(df_customers['BirthDate'], errors='coerce')\n"
          ]
        }
      ]
    },
    {
      "cell_type": "code",
      "source": [
        "# Clean AnnualIncome by removing symbols and converting to float\n",
        "df_customers['AnnualIncome'] = df_customers['AnnualIncome'].replace('[\\$,]', '', regex=True).astype(float)\n",
        "print(df_customers['AnnualIncome'])"
      ],
      "metadata": {
        "colab": {
          "base_uri": "https://localhost:8080/"
        },
        "id": "tHmk774zeHh-",
        "outputId": "4c41432f-3adf-4900-da77-3b729c110284"
      },
      "execution_count": 20,
      "outputs": [
        {
          "output_type": "stream",
          "name": "stdout",
          "text": [
            "0       NaN\n",
            "1       NaN\n",
            "2       NaN\n",
            "3       NaN\n",
            "4       NaN\n",
            "         ..\n",
            "18143   NaN\n",
            "18144   NaN\n",
            "18145   NaN\n",
            "18146   NaN\n",
            "18147   NaN\n",
            "Name: AnnualIncome, Length: 18148, dtype: float64\n"
          ]
        }
      ]
    },
    {
      "cell_type": "code",
      "source": [
        "# Group by Age and calculate average AnnualIncome\n",
        "age_income = df_customers.groupby(pd.cut(df_customers['Age'], bins=np.arange(0, 100, 10)))['AnnualIncome'].mean().reset_index()\n",
        "print(age_income)"
      ],
      "metadata": {
        "colab": {
          "base_uri": "https://localhost:8080/"
        },
        "id": "pIpwluJEfAIn",
        "outputId": "e6ff6364-66ab-4ebb-9da7-47938092ceb2"
      },
      "execution_count": 21,
      "outputs": [
        {
          "output_type": "stream",
          "name": "stdout",
          "text": [
            "        Age  AnnualIncome\n",
            "0   (0, 10]           NaN\n",
            "1  (10, 20]           NaN\n",
            "2  (20, 30]           NaN\n",
            "3  (30, 40]           NaN\n",
            "4  (40, 50]           NaN\n",
            "5  (50, 60]           NaN\n",
            "6  (60, 70]           NaN\n",
            "7  (70, 80]           NaN\n",
            "8  (80, 90]           NaN\n"
          ]
        }
      ]
    },
    {
      "cell_type": "code",
      "source": [],
      "metadata": {
        "id": "LE60zO-MjE4U"
      },
      "execution_count": null,
      "outputs": []
    }
  ]
}